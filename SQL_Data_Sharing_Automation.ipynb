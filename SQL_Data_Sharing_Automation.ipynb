{
  "nbformat": 4,
  "nbformat_minor": 0,
  "metadata": {
    "colab": {
      "provenance": []
    },
    "kernelspec": {
      "name": "python3",
      "display_name": "Python 3"
    },
    "language_info": {
      "name": "python"
    }
  },
  "cells": [
    {
      "cell_type": "code",
      "source": [],
      "metadata": {
        "id": "C5W1lKZNBzHW"
      },
      "execution_count": null,
      "outputs": []
    },
    {
      "cell_type": "code",
      "execution_count": null,
      "metadata": {
        "id": "5wSqyUJCBfpL"
      },
      "outputs": [],
      "source": [
        "import pyobdc\n",
        "import pandas as pd\n",
        "from datetime import datetime, timedelta"
      ]
    },
    {
      "cell_type": "code",
      "source": [
        "# Establish the database connection\n",
        "\n",
        "connection = pyobdc.connect('DRIVER ={SQL Server Native Client 11.0};\n",
        "                            SERVER = MY-SQLSERVERP;\n",
        "                            DATABASE = MY-DATABASE;\n",
        "                            UID = MY-USERID;\n",
        "                            PWD = MY-PASSWORD;\n",
        "                            ')\n"
      ],
      "metadata": {
        "id": "sq-CcaNQB1yD"
      },
      "execution_count": null,
      "outputs": []
    },
    {
      "cell_type": "code",
      "source": [
        "# Execute the SQL Query\n",
        "\n",
        "\n",
        "query = '''\n",
        "\n",
        "SELECT * FROM\n",
        "MY_TABLE\n",
        "\n",
        "'''\n",
        "\n",
        "# Create a cursor object and execute the query\n",
        "cursor = connection.cursor()\n",
        "cursor.execute(query)\n",
        "\n",
        "# Fetch all rows\n",
        "rows = cursor.fetchall()\n",
        "\n",
        "# Get the column names\n",
        "columns = [column[0] for column in cursor.description]\n",
        "\n",
        "# Close the cursor and connection\n",
        "cursor.close()\n",
        "connection.close()\n",
        "\n",
        "# Get column names\n",
        "columns = [column[0] for column in cursor.description]\n",
        "\n",
        "# Create a datafram from the fetched rows\n",
        "df = pd.DataFrame(rows, columns=columns)\n",
        "\n",
        "# Define the Original File Path\n",
        "file_path = r'D:\\AUTOMATION\\Sales.xlsx'\n",
        "\n",
        "# Create a new filename\n",
        "new_filename = 'Sales.xlsx'\n",
        "\n",
        "# Create a new filepath\n",
        "new_file_path = f'D:\\AUTOMATION\\{new_filename}.xlsx'\n",
        "\n",
        "# Export the DataFrame to an Excel file\n",
        "df.to_excel(new_file_path, index=False)\n",
        "\n",
        "# Close the cursor and connection\n",
        "cursor.close()\n",
        "connection.close()\n",
        "\n",
        "# Print the confirmation message\n",
        "print(f'Data exported to {new_file_path}')"
      ],
      "metadata": {
        "id": "eFe74DfcCwlM"
      },
      "execution_count": null,
      "outputs": []
    },
    {
      "cell_type": "code",
      "source": [
        "def send_email():\n",
        "  required_date = datetime.now() - timedelta(days=1)\n",
        "  required_date_str = required_date.strftime('%Y-%m-%d')\n",
        "\n",
        "  outlook = win32.Dispatch('outlook.application')\n",
        "  new_email = outlook.CreateItem(0)\n",
        "\n",
        "  new_email.To = 'MY-EMAIL'\n",
        "  new_email.CC = 'Others-EMAIL'\n",
        "  new_email.Subject = f'Sales Data as on {required_date_str}'\n",
        "  new_email.HTMLBody = f"
      ],
      "metadata": {
        "id": "6fCA2ugLEarP"
      },
      "execution_count": null,
      "outputs": []
    },
    {
      "cell_type": "code",
      "source": [],
      "metadata": {
        "id": "mspQ-5KQCw57"
      },
      "execution_count": null,
      "outputs": []
    }
  ]
}